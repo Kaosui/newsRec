{
 "cells": [
  {
   "cell_type": "code",
   "execution_count": 1,
   "metadata": {},
   "outputs": [],
   "source": [
    "import sys\n",
    "sys.path.append(\".\")\n",
    "sys.path.append(\"..\")\n",
    "import Config\n",
    "from Bias_DNN import DNN\n",
    "import torch\n",
    "import torch.nn as nn\n",
    "import torch.nn.functional as F\n",
    "import torch.optim as optim\n",
    "import numpy as np\n",
    "import pandas as pd\n",
    "import random\n",
    "from utils import *\n",
    "\n",
    "def setup_seed(seed):\n",
    "    torch.manual_seed(seed)\n",
    "    torch.cuda.manual_seed_all(seed)\n",
    "    np.random.seed(seed)\n",
    "    random.seed(seed)\n",
    "    torch.backends.cudnn.deterministic = True\n",
    "\n",
    "setup_seed(114514)\n",
    "\n",
    "# 读取特征\n",
    "test_user_feature = pd.read_csv('../feature/test_user_feature.csv')\n",
    "item_feature = pd.read_csv('../feature/item_feature.csv')\n",
    "\n",
    "# 读取数据\n",
    "train = pd.read_csv('../data/train_data.csv')\n",
    "test = pd.read_csv('../data/test_data.csv')\n",
    "\n",
    "for fea in Config.count_feature:\n",
    "    test_user_feature[fea] = list(map(eval, list(test_user_feature[fea])))\n",
    "    train[fea] = list(map(eval, list(train[fea])))\n",
    "    test[fea] = list(map(eval, list(test[fea])))\n",
    "\n",
    "\n",
    "\n",
    "train_y, test_y = torch.Tensor(list(train['label'])), torch.Tensor(list(test['label']))"
   ]
  },
  {
   "cell_type": "markdown",
   "metadata": {},
   "source": [
    "### 这里放弃用time_diff特征作为bias, 使用后auc大幅降低(若不使用time_diff则auc会更低)"
   ]
  },
  {
   "cell_type": "code",
   "execution_count": 2,
   "metadata": {},
   "outputs": [
    {
     "name": "stdout",
     "output_type": "stream",
     "text": [
      "[2022-02-24 19:53:59.390149]start fit model\n",
      "[2022-02-24 19:54:48.419268][epoch:1||train_loss/test_loss:1.0240/1.0250||train_auc/test_auc:0.936/0.932]\n",
      "[2022-02-24 19:55:33.870559][epoch:2||train_loss/test_loss:0.9917/0.9929||train_auc/test_auc:0.945/0.942]\n",
      "[2022-02-24 19:56:21.985455][epoch:3||train_loss/test_loss:0.9681/0.9695||train_auc/test_auc:0.948/0.944]\n",
      "[2022-02-24 19:57:10.760477][epoch:4||train_loss/test_loss:0.9502/0.9517||train_auc/test_auc:0.949/0.945]\n",
      "[2022-02-24 19:57:56.682893][epoch:5||train_loss/test_loss:0.9358/0.9373||train_auc/test_auc:0.949/0.945]\n"
     ]
    }
   ],
   "source": [
    "# 首先训练模型\n",
    "model = DNN(\n",
    "    Features = Config.item_feature + Config.count_feature + Config.user_feature + Config.match_feature, \n",
    "    hidden_unit = [32], \n",
    "    Bias_Features = [],\n",
    "    bias_unit = []\n",
    ")\n",
    "\n",
    "model.fit(train, train_y, test, test_y, epoch=5, batch_size=1024, lr=5e-2)"
   ]
  },
  {
   "cell_type": "code",
   "execution_count": 3,
   "metadata": {},
   "outputs": [
    {
     "name": "stdout",
     "output_type": "stream",
     "text": [
      "DNN(\n",
      "  (embs): Normal_Embedding(\n",
      "    (embs): ModuleDict(\n",
      "      (click_article_id): Embedding(31116, 32)\n",
      "      (category_id): Embedding(290, 4)\n",
      "      (count_feature): Embedding(31117, 32, padding_idx=31116)\n",
      "      (click_environment): Embedding(3, 1)\n",
      "      (click_deviceGroup): Embedding(5, 1)\n",
      "      (click_os): Embedding(8, 1)\n",
      "      (click_country): Embedding(11, 1)\n",
      "      (click_region): Embedding(28, 2)\n",
      "      (click_referrer_type): Embedding(7, 1)\n",
      "      (time_diff): Embedding(4, 1)\n",
      "    )\n",
      "  )\n",
      "  (fc): ModuleList(\n",
      "    (0): Linear(in_features=172, out_features=32, bias=True)\n",
      "    (1): Linear(in_features=32, out_features=1, bias=True)\n",
      "  )\n",
      "  (bias_fc): ModuleList()\n",
      "  (ce): BCEWithLogitsLoss()\n",
      ")\n"
     ]
    }
   ],
   "source": [
    "# 冻结模型参数\n",
    "for param in model.parameters():\n",
    "    param.requires_grad = False\n",
    "\n",
    "print(model)"
   ]
  },
  {
   "cell_type": "code",
   "execution_count": 4,
   "metadata": {},
   "outputs": [
    {
     "name": "stdout",
     "output_type": "stream",
     "text": [
      "[2022-02-24 19:58:01.208976]all users:50000, recall nums per user:300\n"
     ]
    }
   ],
   "source": [
    "# 解析json\n",
    "import json\n",
    "def read_json(path):\n",
    "    f = open(path, 'r')\n",
    "    return json.load(f)\n",
    "\n",
    "# 读取召回字典, 这里用MF单路召回\n",
    "# recall_data = read_json('../recall/recall_data/MF_data.json')\n",
    "recall_data = read_json('../recall/recall_data/DSSM_data.json')\n",
    "timelogger(f\"all users:{len(recall_data)}, recall nums per user:{len(recall_data[list(recall_data.keys())[0]])}\")"
   ]
  },
  {
   "cell_type": "code",
   "execution_count": 5,
   "metadata": {},
   "outputs": [
    {
     "name": "stderr",
     "output_type": "stream",
     "text": [
      "  0%|          | 0/50000 [00:00<?, ?it/s]..\\utils.py:68: SettingWithCopyWarning: \n",
      "A value is trying to be set on a copy of a slice from a DataFrame.\n",
      "Try using .loc[row_indexer,col_indexer] = value instead\n",
      "\n",
      "See the caveats in the documentation: https://pandas.pydata.org/pandas-docs/stable/user_guide/indexing.html#returning-a-view-versus-a-copy\n",
      "  item_df['user_id'] = user_id\n",
      "100%|██████████| 50000/50000 [21:55<00:00, 38.01it/s]\n"
     ]
    }
   ],
   "source": [
    "# 排序, 取分数最高的10个作为推荐序列\n",
    "def get_rec_seq(user_id, top_k):\n",
    "    items = sorted(recall_data[str(user_id)]) # 候选样本\n",
    "    fs = merge_feature(\n",
    "        user_id = user_id,\n",
    "        user_df = test_user_feature,\n",
    "        item_df = item_feature[item_feature['click_article_id'].isin(items)],\n",
    "        use_match_feature = True\n",
    "    )\n",
    "    scores = model.get_y_pre(fs).detach().numpy()\n",
    "    candidates = [(items[i], scores[i]) for i in range(len(scores))]\n",
    "    candidates = sorted(candidates, key=lambda x:x[1], reverse = True)\n",
    "    return candidates[:top_k]\n",
    "    \n",
    "from tqdm import tqdm\n",
    "\n",
    "rec_seq = {}\n",
    "top_k = 10\n",
    "for user in tqdm(list(test_user_feature['user_id'])):\n",
    "    rec_seq[user] = get_rec_seq(user, top_k)"
   ]
  },
  {
   "cell_type": "code",
   "execution_count": 11,
   "metadata": {},
   "outputs": [
    {
     "name": "stderr",
     "output_type": "stream",
     "text": [
      "100%|██████████| 50000/50000 [00:00<00:00, 126552.19it/s]\n"
     ]
    },
    {
     "name": "stdout",
     "output_type": "stream",
     "text": [
      "[2022-02-24 20:32:38.911406]successfully save result to ./result/result.csv\n"
     ]
    }
   ],
   "source": [
    "# 生成推荐序列, 每个用户5篇, 保存推荐序列到 ./result.csv, columns = [user_id, article1, score1, ..., article5, score5]\n",
    "result = {'user_id':[]}\n",
    "for i in range(1,6):\n",
    "    result[f'article{i}'] = []\n",
    "    result[f'score{i}'] = []\n",
    "\n",
    "\n",
    "for user in tqdm(list(test_user_feature['user_id'])):\n",
    "    candidates = rec_seq[user]\n",
    "    result['user_id'].append(user)\n",
    "    for i in range(1,6):\n",
    "        result[f'article{i}'].append(candidates[i-1][0])\n",
    "        result[f'score{i}'].append(candidates[i-1][1])\n",
    "\n",
    "result = pd.DataFrame(result)\n",
    "\n",
    "import os\n",
    "\n",
    "try:\n",
    "    os.system('mkdir result')\n",
    "except:\n",
    "    pass\n",
    "\n",
    "result.to_csv('./result/result.csv', index=False)\n",
    "timelogger(\"successfully save result to ./result/result.csv\")"
   ]
  }
 ],
 "metadata": {
  "interpreter": {
   "hash": "aab595ff62789189e91f89e5fe78a953b36ee61989d61b088a79f673cbc99b79"
  },
  "kernelspec": {
   "display_name": "Python 3.8.5 ('base')",
   "language": "python",
   "name": "python3"
  },
  "language_info": {
   "codemirror_mode": {
    "name": "ipython",
    "version": 3
   },
   "file_extension": ".py",
   "mimetype": "text/x-python",
   "name": "python",
   "nbconvert_exporter": "python",
   "pygments_lexer": "ipython3",
   "version": "3.8.5"
  },
  "orig_nbformat": 4
 },
 "nbformat": 4,
 "nbformat_minor": 2
}
