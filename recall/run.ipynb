{
 "cells": [
  {
   "cell_type": "code",
   "execution_count": 1,
   "metadata": {},
   "outputs": [],
   "source": [
    "import sys\n",
    "sys.path.append(\".\")\n",
    "sys.path.append(\"..\")\n",
    "#from RecallConfig import *\n",
    "import RecallConfig\n",
    "from MF import MF\n",
    "from FM import FM\n",
    "from DSSM import DSSM\n",
    "import torch\n",
    "import torch.nn as nn\n",
    "import torch.nn.functional as F\n",
    "import torch.optim as optim\n",
    "import numpy as np\n",
    "import pandas as pd\n",
    "import random\n",
    "from utils import *\n",
    "\n",
    "MODEL_NAME = input(\"your model name:\") # FM MF DSSM\n",
    "assert MODEL_NAME in ['FM', 'MF', 'DSSM']\n",
    "\n",
    "EMB_DIM = 32\n",
    "hidden_unit = [32]\n",
    "\n",
    "def setup_seed(seed):\n",
    "    torch.manual_seed(seed)\n",
    "    torch.cuda.manual_seed_all(seed)\n",
    "    np.random.seed(seed)\n",
    "    random.seed(seed)\n",
    "    torch.backends.cudnn.deterministic = True\n",
    "\n",
    "setup_seed(114514)\n",
    "\n",
    "# 读取特征\n",
    "test_user_feature = pd.read_csv('../feature/test_user_feature.csv')\n",
    "item_feature = pd.read_csv('../feature/item_feature.csv')\n",
    "\n",
    "# 读取数据\n",
    "train = pd.read_csv('../data/train_data.csv')\n",
    "test = pd.read_csv('../data/test_data.csv')\n",
    "\n",
    "for fea in RecallConfig.count_feature:\n",
    "    test_user_feature[fea] = list(map(eval, list(test_user_feature[fea])))\n",
    "    train[fea] = list(map(eval, list(train[fea])))\n",
    "    test[fea] = list(map(eval, list(test[fea])))\n",
    "\n",
    "if MODEL_NAME == 'MF':\n",
    "    #提取标签是1的样本\n",
    "    train = train[train['label']==1]\n",
    "    test = test[test['label']==1]\n",
    "\n",
    "\n",
    "train_y, test_y = torch.Tensor(list(train['label'])), torch.Tensor(list(test['label']))"
   ]
  },
  {
   "cell_type": "code",
   "execution_count": 2,
   "metadata": {},
   "outputs": [
    {
     "name": "stdout",
     "output_type": "stream",
     "text": [
      "['click_article_id', 'user_last_click_7t']\n",
      "[2022-02-20 19:45:01.426112]start fit model\n",
      "[2022-02-20 19:45:09.420725][epoch:1||train_loss/test_loss:0.5782/0.6266||train_auc/test_auc:-1.000/-1.000]\n",
      "[2022-02-20 19:45:12.702114][epoch:2||train_loss/test_loss:0.4104/0.4699||train_auc/test_auc:-1.000/-1.000]\n",
      "[2022-02-20 19:45:15.472738][epoch:3||train_loss/test_loss:0.3175/0.3824||train_auc/test_auc:-1.000/-1.000]\n",
      "[2022-02-20 19:45:18.222483][epoch:4||train_loss/test_loss:0.2587/0.3270||train_auc/test_auc:-1.000/-1.000]\n",
      "[2022-02-20 19:45:21.529101][epoch:5||train_loss/test_loss:0.2183/0.2888||train_auc/test_auc:-1.000/-1.000]\n"
     ]
    }
   ],
   "source": [
    "User_Features = RecallConfig.user_feature + RecallConfig.count_feature\n",
    "Item_Features = RecallConfig.item_feature\n",
    "Features = User_Features + Item_Features\n",
    "\n",
    "if MODEL_NAME == 'MF':\n",
    "    model = MF(Features=Features, default_vector_dim=EMB_DIM)\n",
    "elif MODEL_NAME == 'FM':\n",
    "    model = FM(Features=Features, default_vector_dim=12)\n",
    "elif MODEL_NAME == 'DSSM':\n",
    "    model = DSSM(User_Features, Item_Features, default_vector_dim=Feature_Embedding_Dim, unit_hidden=hidden_unit)\n",
    "\n",
    "print(\"{}:{}\".format(MODEL_NAME, model.features))\n",
    "# 训练\n",
    "model.fit(train, train_y, test, test_y, epoch=5, batch_size=1024, lr=7e-2)\n",
    "# model.fit(train, train_y, test, test_y, epoch=5, batch_size=1024, lr=1e-1)"
   ]
  },
  {
   "cell_type": "code",
   "execution_count": 3,
   "metadata": {},
   "outputs": [
    {
     "data": {
      "text/plain": [
       "MF(\n",
       "  (embs): Normal_Embedding(\n",
       "    (embs): ModuleDict(\n",
       "      (click_article_id): Embedding(31116, 32)\n",
       "      (count_feature): Embedding(31117, 32, padding_idx=31116)\n",
       "    )\n",
       "  )\n",
       "  (ce): MSELoss()\n",
       ")"
      ]
     },
     "execution_count": 3,
     "metadata": {},
     "output_type": "execute_result"
    }
   ],
   "source": [
    "# 冻结模型参数\n",
    "for parm in model.parameters():\n",
    "    parm.requires_grad = False\n",
    "\n",
    "model"
   ]
  },
  {
   "cell_type": "code",
   "execution_count": 4,
   "metadata": {},
   "outputs": [
    {
     "name": "stderr",
     "output_type": "stream",
     "text": [
      "1112623it [03:02, 6091.43it/s]\n",
      "100%|██████████| 50000/50000 [1:15:38<00:00, 11.02it/s]\n"
     ]
    }
   ],
   "source": [
    "# 为每一个用户生成召回序列\n",
    "# 构造历史点击序列\n",
    "from tqdm import tqdm\n",
    "\n",
    "user_click_hist = {}\n",
    "for i, row in tqdm(pd.read_csv('../data/train.csv').append(pd.read_csv('../data/test.csv')).sort_values(by=['user_id', \"click_timestamp\"]).iterrows()):\n",
    "    user, item = row['user_id'], row['click_article_id']\n",
    "    user_click_hist.setdefault(user, [])\n",
    "    user_click_hist[user].append(item)\n",
    "\n",
    "# 去掉最后一次点击\n",
    "for user in user_click_hist:\n",
    "    user_click_hist[user] = user_click_hist[user][:-1]\n",
    "\n",
    "items = list(item_feature['click_article_id'])\n",
    "def get_recall_dict(user_id, top_k):\n",
    "    fs = merge_feature(user_id, test_user_feature, item_feature)\n",
    "    scores = model.get_y_pre(fs).detach().numpy()\n",
    "    candidates = [(items[i], scores[i]) for i in range(len(scores))]\n",
    "    candidates = sorted(candidates, key=lambda x:x[1], reverse = True)\n",
    "    res = []\n",
    "    count = 0\n",
    "    for candidate in candidates:\n",
    "        if candidate[0] not in user_click_hist[user_id]:\n",
    "            res.append(candidate)\n",
    "            count += 1\n",
    "            if count == top_k: break\n",
    "    return res\n",
    "\n",
    "\n",
    "recall_dict = {}\n",
    "for user in tqdm(list(test_user_feature['user_id'])):\n",
    "    recall_dict[user] = get_recall_dict(user, 300)"
   ]
  },
  {
   "cell_type": "code",
   "execution_count": 5,
   "metadata": {},
   "outputs": [],
   "source": [
    "# 获取测试集用户的最后一次点击\n",
    "\n",
    "last_clk = pd.read_csv('../data/test.csv').sort_values(by=['user_id', \"click_timestamp\"]).groupby('user_id').tail(1)\n",
    "# last_clk = pd.read_csv('../data/train.csv').append(pd.read_csv('../data/test.csv')).sort_values(by=['user_id', \"click_timestamp\"]).groupby('user_id').tail(1)"
   ]
  },
  {
   "cell_type": "code",
   "execution_count": 6,
   "metadata": {},
   "outputs": [
    {
     "name": "stdout",
     "output_type": "stream",
     "text": [
      "[2022-02-20 21:04:18.086801]k = 1, hit rate: 3602/50000 = 7.20%\n",
      "[2022-02-20 21:04:26.436539]k = 5, hit rate: 10322/50000 = 20.64%\n",
      "[2022-02-20 21:04:34.356249]k = 10, hit rate: 13704/50000 = 27.41%\n",
      "[2022-02-20 21:04:43.005996]k = 20, hit rate: 17326/50000 = 34.65%\n",
      "[2022-02-20 21:04:51.568061]k = 30, hit rate: 19502/50000 = 39.00%\n",
      "[2022-02-20 21:05:00.797885]k = 50, hit rate: 22123/50000 = 44.25%\n",
      "[2022-02-20 21:05:10.591909]k = 100, hit rate: 25765/50000 = 51.53%\n",
      "[2022-02-20 21:05:22.009021]k = 200, hit rate: 29120/50000 = 58.24%\n",
      "[2022-02-20 21:05:34.779077]k = 300, hit rate: 31040/50000 = 62.08%\n"
     ]
    }
   ],
   "source": [
    "# 看一下召回率\n",
    "recall_data_ = {}\n",
    "for user in recall_dict:\n",
    "    recall_data_[user] = [x[0] for x in recall_dict[user]]\n",
    "\n",
    "ks = [1, 5, 10, 20, 30, 50, 100, 200, 300]\n",
    "for k in ks:    \n",
    "    clk_hit = 0\n",
    "    # for i, row in last_clk[last_clk['user_id'].isin(list(test_user_feature['user_id']))].iterrows():\n",
    "    for i, row in last_clk.iterrows():\n",
    "        user, item = row['user_id'], row['click_article_id']\n",
    "        if item in recall_data_[user][:k]:\n",
    "            clk_hit += 1\n",
    "    message = 'k = {}, hit rate: {}/{} = {:.2f}%'.format(k, clk_hit, len(last_clk), 100*clk_hit/len(last_clk))\n",
    "    timelogger(message)"
   ]
  },
  {
   "cell_type": "code",
   "execution_count": 7,
   "metadata": {},
   "outputs": [
    {
     "data": {
      "text/plain": [
       "\"\\nf = open(filename, 'r')\\ntmp = json.load(f)\\n\\n注意读取出来的索引keys由原来的int变为str\\n\""
      ]
     },
     "execution_count": 7,
     "metadata": {},
     "output_type": "execute_result"
    }
   ],
   "source": [
    "# 保存召回字典\n",
    "import json\n",
    "\n",
    "class JsonEncoder(json.JSONEncoder):\n",
    "    def default(self, obj):\n",
    "        if isinstance(obj, int):\n",
    "            return int(obj)\n",
    "        elif isinstance(obj, float):\n",
    "            return float(obj)\n",
    "        elif isinstance(obj, np.ndarray):\n",
    "            return obj.tolist()\n",
    "        elif isinstance(obj, datetime):                                 \n",
    "            return obj.__str__()\n",
    "        else:\n",
    "            return super(JsonEncoder, self).default(obj)\n",
    "\n",
    "with open(\"./recall_data/{}_data.json\".format(MODEL_NAME), 'w') as json_file:\n",
    "    json.dump(recall_data_, json_file, ensure_ascii=False, cls=JsonEncoder)\n",
    "\n",
    "'''\n",
    "f = open(filename, 'r')\n",
    "tmp = json.load(f)\n",
    "\n",
    "注意读取出来的索引keys由原来的int变为str\n",
    "'''"
   ]
  }
 ],
 "metadata": {
  "interpreter": {
   "hash": "aab595ff62789189e91f89e5fe78a953b36ee61989d61b088a79f673cbc99b79"
  },
  "kernelspec": {
   "display_name": "Python 3.8.5 ('base')",
   "language": "python",
   "name": "python3"
  },
  "language_info": {
   "codemirror_mode": {
    "name": "ipython",
    "version": 3
   },
   "file_extension": ".py",
   "mimetype": "text/x-python",
   "name": "python",
   "nbconvert_exporter": "python",
   "pygments_lexer": "ipython3",
   "version": "3.8.5"
  },
  "orig_nbformat": 4
 },
 "nbformat": 4,
 "nbformat_minor": 2
}
